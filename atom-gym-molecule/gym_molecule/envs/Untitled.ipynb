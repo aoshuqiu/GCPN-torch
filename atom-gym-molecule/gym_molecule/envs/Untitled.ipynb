{
 "cells": [
  {
   "cell_type": "code",
   "execution_count": 6,
   "id": "natural-topic",
   "metadata": {},
   "outputs": [
    {
     "name": "stdout",
     "output_type": "stream",
     "text": [
      "(1, 47, 9)\n",
      "<gym.spaces.space.Space object at 0x0000027341E5C668>\n",
      "[<gym.spaces.space.Space object at 0x0000027341E5C940>\n",
      " <gym.spaces.space.Space object at 0x0000027341E5C940>\n",
      " <gym.spaces.space.Space object at 0x0000027341E5C940>]\n",
      "[13 37  2  0]\n"
     ]
    }
   ],
   "source": [
    "import gym\n",
    "import gym_molecule\n",
    "import numpy as np\n",
    "\n",
    "env = gym.make(\"molecule-v0\")\n",
    "env.init()\n",
    "ob_space = env.observation_space\n",
    "print(ob_space[\"node\"].shape)\n",
    "print(ob_space[\"adj\"])\n",
    "ob_node = ob_space[\"node\"]\n",
    "ob_nodes = np.array([ob_node for _ in range(3)])\n",
    "print(ob_nodes)\n",
    "ac = env.action_space.sample()\n",
    "print(ac)"
   ]
  },
  {
   "cell_type": "code",
   "execution_count": 26,
   "id": "prescription-fashion",
   "metadata": {},
   "outputs": [
    {
     "name": "stdout",
     "output_type": "stream",
     "text": [
      "1\n"
     ]
    }
   ],
   "source": [
    "import argparse\n",
    "parser = argparse.ArgumentParser(description='Process some integers.',formatter_class=argparse.ArgumentDefaultsHelpFormatter)\n",
    "parser.add_argument('--sum',type=int,\\\n",
    "                   default=1,help = 'sum the integers (default: find the max)')\n",
    "args = parser.parse_args([])\n",
    "print(args.sum)"
   ]
  },
  {
   "cell_type": "code",
   "execution_count": 4,
   "id": "aquatic-office",
   "metadata": {},
   "outputs": [
    {
     "name": "stdout",
     "output_type": "stream",
     "text": [
      "[1. 1. 0. 1. 1.]\n"
     ]
    }
   ],
   "source": [
    "import tensorflow as tf\n",
    "\n",
    "# Build a graph.\n",
    "a = tf.Variable([2,3,0,-1,-4])\n",
    "b = tf.cast(a,dtype = tf.bool)\n",
    "c = tf.cast(b,dtype = tf.float32)\n",
    "with tf.Session() as sess:\n",
    "    sess.run(tf.initialize_all_variables())\n",
    "    print(sess.run(c))"
   ]
  },
  {
   "cell_type": "code",
   "execution_count": 11,
   "id": "flexible-kinase",
   "metadata": {},
   "outputs": [
    {
     "name": "stdout",
     "output_type": "stream",
     "text": [
      "[[0. 0.]\n",
      " [0. 0.]\n",
      " [0. 0.]]\n",
      "[[0. 0.]\n",
      " [1. 2.]\n",
      " [0. 0.]]\n"
     ]
    }
   ],
   "source": [
    "import numpy as np\n",
    "F = np.zeros((3,2))\n",
    "print(F)\n",
    "F[1,:]=[1,2]\n",
    "print(F)"
   ]
  }
 ],
 "metadata": {
  "kernelspec": {
   "display_name": "Python 3",
   "language": "python",
   "name": "python3"
  },
  "language_info": {
   "codemirror_mode": {
    "name": "ipython",
    "version": 3
   },
   "file_extension": ".py",
   "mimetype": "text/x-python",
   "name": "python",
   "nbconvert_exporter": "python",
   "pygments_lexer": "ipython3",
   "version": "3.6.12"
  }
 },
 "nbformat": 4,
 "nbformat_minor": 5
}
